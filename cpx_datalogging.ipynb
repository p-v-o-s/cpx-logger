{
 "cells": [
  {
   "cell_type": "markdown",
   "metadata": {},
   "source": [
    "# Datalogging\n",
    "\n",
    "## code.py: "
   ]
  },
  {
   "cell_type": "code",
   "execution_count": 1,
   "metadata": {},
   "outputs": [
    {
     "ename": "ModuleNotFoundError",
     "evalue": "No module named 'adafruit_circuitplayground'",
     "output_type": "error",
     "traceback": [
      "\u001b[0;31m---------------------------------------------------------------------------\u001b[0m",
      "\u001b[0;31mModuleNotFoundError\u001b[0m                       Traceback (most recent call last)",
      "\u001b[0;32m<ipython-input-1-a2d23310375e>\u001b[0m in \u001b[0;36m<module>\u001b[0;34m()\u001b[0m\n\u001b[1;32m      1\u001b[0m \u001b[0;32mimport\u001b[0m \u001b[0mtime\u001b[0m\u001b[0;34m\u001b[0m\u001b[0m\n\u001b[1;32m      2\u001b[0m \u001b[0;34m\u001b[0m\u001b[0m\n\u001b[0;32m----> 3\u001b[0;31m \u001b[0;32mfrom\u001b[0m \u001b[0madafruit_circuitplayground\u001b[0m\u001b[0;34m.\u001b[0m\u001b[0mexpress\u001b[0m \u001b[0;32mimport\u001b[0m \u001b[0mcpx\u001b[0m\u001b[0;34m\u001b[0m\u001b[0m\n\u001b[0m\u001b[1;32m      4\u001b[0m \u001b[0;34m\u001b[0m\u001b[0m\n\u001b[1;32m      5\u001b[0m \u001b[0;32mtry\u001b[0m\u001b[0;34m:\u001b[0m\u001b[0;34m\u001b[0m\u001b[0m\n",
      "\u001b[0;31mModuleNotFoundError\u001b[0m: No module named 'adafruit_circuitplayground'"
     ]
    }
   ],
   "source": [
    "import time\n",
    " \n",
    "from adafruit_circuitplayground.express import cpx\n",
    "\n",
    "try:\n",
    "    with open(\"/temperature.txt\", \"a\") as fp:\n",
    "        while True:\n",
    "            temp = cpx.temperature\n",
    "            # do the C-to-F conversion here if you would like\n",
    "            fp.write('{0:f}\\n'.format(temp))\n",
    "            fp.flush()\n",
    "            cpx.red_led = not cpx.red_led\n",
    "            time.sleep(1)\n",
    "except OSError as e:\n",
    "    delay = 0.5\n",
    "    if e.args[0] == 28:\n",
    "        delay = 0.25\n",
    "    while True:\n",
    "        cpx.red_led = not cpx.red_le\n",
    "        time.sleep(delay)"
   ]
  },
  {
   "cell_type": "markdown",
   "metadata": {},
   "source": [
    "## boot.py"
   ]
  },
  {
   "cell_type": "code",
   "execution_count": null,
   "metadata": {},
   "outputs": [],
   "source": [
    "import board\n",
    "import digitalio\n",
    "import storage\n",
    "\n",
    "switch = digitalio.DigitalInOut(board.D7)\n",
    "switch.direction = digitalio.Direction.INPUT\n",
    "switch.pull = digitalio.Pull.UP\n",
    "\n",
    "# If the D0 is connected to ground with a wire\n",
    "# CircuitPython can write to the drive\n",
    "storage.remount(\"/\", switch.value) "
   ]
  }
 ],
 "metadata": {
  "kernelspec": {
   "display_name": "Python 3",
   "language": "python",
   "name": "python3"
  },
  "language_info": {
   "codemirror_mode": {
    "name": "ipython",
    "version": 3
   },
   "file_extension": ".py",
   "mimetype": "text/x-python",
   "name": "python",
   "nbconvert_exporter": "python",
   "pygments_lexer": "ipython3",
   "version": "3.6.5"
  }
 },
 "nbformat": 4,
 "nbformat_minor": 2
}
